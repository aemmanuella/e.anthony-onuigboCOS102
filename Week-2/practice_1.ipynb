{
 "cells": [
  {
   "cell_type": "code",
   "execution_count": 1,
   "metadata": {},
   "outputs": [
    {
     "name": "stdout",
     "output_type": "stream",
     "text": [
      "Your state of origin is:  Enugu\n",
      "The first character is:  E\n",
      "The chafracters starting from 3rd to 5th are:  ugu\n",
      "The string starting from 3rd character is:  ugu\n",
      "The state of origin two times EnuguEnugu\n"
     ]
    }
   ],
   "source": [
    "str = input(\"Enter your state of origin:\")\n",
    "\n",
    "print (\"Your state of origin is: \", str)\n",
    "print(\"The first character is: \", str[0])\n",
    "print(\"The chafracters starting from 3rd to 5th are: \", str[2:5])\n",
    "print(\"The string starting from 3rd character is: \", str[2:])\n",
    "print(\"The state of origin two times\", str * 2)\n"
   ]
  },
  {
   "cell_type": "code",
   "execution_count": null,
   "metadata": {},
   "outputs": [],
   "source": []
  }
 ],
 "metadata": {
  "kernelspec": {
   "display_name": "Python 3",
   "language": "python",
   "name": "python3"
  },
  "language_info": {
   "codemirror_mode": {
    "name": "ipython",
    "version": 3
   },
   "file_extension": ".py",
   "mimetype": "text/x-python",
   "name": "python",
   "nbconvert_exporter": "python",
   "pygments_lexer": "ipython3",
   "version": "3.12.3"
  }
 },
 "nbformat": 4,
 "nbformat_minor": 2
}
