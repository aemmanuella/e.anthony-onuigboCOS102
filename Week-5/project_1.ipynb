{
 "cells": [
  {
   "cell_type": "code",
   "execution_count": 8,
   "id": "fca9049e",
   "metadata": {},
   "outputs": [],
   "source": [
    "import csv\n",
    "import tkinter as tk\n",
    "from tkinter import messagebox as msgbox\n",
    "\n",
    "\n",
    "def submit():\n",
    "    name = name_entry.get().strip().title()\n",
    "    dep = department_entry.get().strip().title()\n",
    "\n",
    "    found = False\n",
    "    same_dept_names = []\n",
    "\n",
    "    with open(\"GIG-logistics.csv\", mode=\"r\") as file:\n",
    "        reader = csv.reader(file)\n",
    "        next(reader) \n",
    "\n",
    "        for row in reader:\n",
    "            file_name = row[0].strip().title()\n",
    "            file_dep = row[1].strip().title()\n",
    "\n",
    "            if name == file_name and dep == file_dep:\n",
    "                found = True\n",
    "\n",
    "            if dep == file_dep:\n",
    "                same_dept_names.append(file_name)\n",
    "\n",
    "    if found:\n",
    "        msgbox.showinfo(\"Login Success\", f\"Welcome {name}!\\n \\n Others in {dep} Department:\\n\" + \"\\n\".join(same_dept_names))\n",
    "    else:\n",
    "        msgbox.showerror(\"Login Failed\", \"You are not an employee.\")\n",
    "\n",
    "\n",
    "# Create main window\n",
    "root = tk.Tk()\n",
    "root.title(\"Verification Page\")\n",
    "root.geometry(\"500x200\")\n",
    "\n",
    "# Create Name label and entry\n",
    "name_label = tk.Label(root, text=\"Name:\")\n",
    "name_label.pack()\n",
    "name_entry = tk.Entry(root)\n",
    "name_entry.pack()\n",
    "\n",
    "# Create Department label and entry\n",
    "department_label = tk.Label(root, text=\"Department:\")\n",
    "department_label.pack()\n",
    "department_entry= tk.Entry(root)\n",
    "department_entry.pack()\n",
    "\n",
    "#Create Submit button\n",
    "submit_button = tk.Button(root, text=\"Submit\", command=submit)\n",
    "submit_button.pack()\n",
    "\n",
    "# Run the main event loop\n",
    "root.mainloop()\n"
   ]
  },
  {
   "cell_type": "code",
   "execution_count": null,
   "id": "b887240f",
   "metadata": {},
   "outputs": [],
   "source": []
  }
 ],
 "metadata": {
  "kernelspec": {
   "display_name": "Python 3",
   "language": "python",
   "name": "python3"
  },
  "language_info": {
   "codemirror_mode": {
    "name": "ipython",
    "version": 3
   },
   "file_extension": ".py",
   "mimetype": "text/x-python",
   "name": "python",
   "nbconvert_exporter": "python",
   "pygments_lexer": "ipython3",
   "version": "3.12.3"
  }
 },
 "nbformat": 4,
 "nbformat_minor": 5
}
